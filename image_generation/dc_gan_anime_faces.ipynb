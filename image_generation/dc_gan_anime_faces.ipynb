{
 "metadata": {
  "colab": {
   "provenance": []
  },
  "kernelspec": {
   "name": "python3",
   "display_name": "Python 3",
   "language": "python"
  },
  "language_info": {
   "name": "python",
   "version": "3.10.14",
   "mimetype": "text/x-python",
   "codemirror_mode": {
    "name": "ipython",
    "version": 3
   },
   "pygments_lexer": "ipython3",
   "nbconvert_exporter": "python",
   "file_extension": ".py"
  },
  "widgets": {
   "application/vnd.jupyter.widget-state+json": {
    "0e1bf2d6b6044f68b64da3fb3a7b47e2": {
     "model_module": "@jupyter-widgets/controls",
     "model_module_version": "1.5.0",
     "model_name": "HTMLModel",
     "state": {
      "_dom_classes": [],
      "_model_module": "@jupyter-widgets/controls",
      "_model_module_version": "1.5.0",
      "_model_name": "HTMLModel",
      "_view_count": null,
      "_view_module": "@jupyter-widgets/controls",
      "_view_module_version": "1.5.0",
      "_view_name": "HTMLView",
      "description": "",
      "description_tooltip": null,
      "layout": "IPY_MODEL_68781689f84c45709780c5e37f76e6a2",
      "placeholder": "​",
      "style": "IPY_MODEL_28d94e046a434b5f90a9e9e1991ec618",
      "value": "100%"
     }
    },
    "0f424cef427d441ab7c31b7f26f83b46": {
     "model_module": "@jupyter-widgets/controls",
     "model_module_version": "1.5.0",
     "model_name": "ProgressStyleModel",
     "state": {
      "_model_module": "@jupyter-widgets/controls",
      "_model_module_version": "1.5.0",
      "_model_name": "ProgressStyleModel",
      "_view_count": null,
      "_view_module": "@jupyter-widgets/base",
      "_view_module_version": "1.2.0",
      "_view_name": "StyleView",
      "bar_color": null,
      "description_width": ""
     }
    },
    "28d94e046a434b5f90a9e9e1991ec618": {
     "model_module": "@jupyter-widgets/controls",
     "model_module_version": "1.5.0",
     "model_name": "DescriptionStyleModel",
     "state": {
      "_model_module": "@jupyter-widgets/controls",
      "_model_module_version": "1.5.0",
      "_model_name": "DescriptionStyleModel",
      "_view_count": null,
      "_view_module": "@jupyter-widgets/base",
      "_view_module_version": "1.2.0",
      "_view_name": "StyleView",
      "description_width": ""
     }
    },
    "343f599dfb7a41bbb0600822e932641d": {
     "model_module": "@jupyter-widgets/controls",
     "model_module_version": "1.5.0",
     "model_name": "HBoxModel",
     "state": {
      "_dom_classes": [],
      "_model_module": "@jupyter-widgets/controls",
      "_model_module_version": "1.5.0",
      "_model_name": "HBoxModel",
      "_view_count": null,
      "_view_module": "@jupyter-widgets/controls",
      "_view_module_version": "1.5.0",
      "_view_name": "HBoxView",
      "box_style": "",
      "children": [
       "IPY_MODEL_0e1bf2d6b6044f68b64da3fb3a7b47e2",
       "IPY_MODEL_b210155c93124c63b9223889b505698b",
       "IPY_MODEL_c3f32d5e28ab4dd5b2a5dbe625d2a26f"
      ],
      "layout": "IPY_MODEL_5f9909ca5d154edcb6f630bf982f6d6b"
     }
    },
    "3a90be96411c4d6b861337e6be57790f": {
     "model_module": "@jupyter-widgets/base",
     "model_module_version": "1.2.0",
     "model_name": "LayoutModel",
     "state": {
      "_model_module": "@jupyter-widgets/base",
      "_model_module_version": "1.2.0",
      "_model_name": "LayoutModel",
      "_view_count": null,
      "_view_module": "@jupyter-widgets/base",
      "_view_module_version": "1.2.0",
      "_view_name": "LayoutView",
      "align_content": null,
      "align_items": null,
      "align_self": null,
      "border": null,
      "bottom": null,
      "display": null,
      "flex": null,
      "flex_flow": null,
      "grid_area": null,
      "grid_auto_columns": null,
      "grid_auto_flow": null,
      "grid_auto_rows": null,
      "grid_column": null,
      "grid_gap": null,
      "grid_row": null,
      "grid_template_areas": null,
      "grid_template_columns": null,
      "grid_template_rows": null,
      "height": null,
      "justify_content": null,
      "justify_items": null,
      "left": null,
      "margin": null,
      "max_height": null,
      "max_width": null,
      "min_height": null,
      "min_width": null,
      "object_fit": null,
      "object_position": null,
      "order": null,
      "overflow": null,
      "overflow_x": null,
      "overflow_y": null,
      "padding": null,
      "right": null,
      "top": null,
      "visibility": null,
      "width": null
     }
    },
    "4586fa7cfb314182bcb76538e9682f91": {
     "model_module": "@jupyter-widgets/base",
     "model_module_version": "1.2.0",
     "model_name": "LayoutModel",
     "state": {
      "_model_module": "@jupyter-widgets/base",
      "_model_module_version": "1.2.0",
      "_model_name": "LayoutModel",
      "_view_count": null,
      "_view_module": "@jupyter-widgets/base",
      "_view_module_version": "1.2.0",
      "_view_name": "LayoutView",
      "align_content": null,
      "align_items": null,
      "align_self": null,
      "border": null,
      "bottom": null,
      "display": null,
      "flex": null,
      "flex_flow": null,
      "grid_area": null,
      "grid_auto_columns": null,
      "grid_auto_flow": null,
      "grid_auto_rows": null,
      "grid_column": null,
      "grid_gap": null,
      "grid_row": null,
      "grid_template_areas": null,
      "grid_template_columns": null,
      "grid_template_rows": null,
      "height": null,
      "justify_content": null,
      "justify_items": null,
      "left": null,
      "margin": null,
      "max_height": null,
      "max_width": null,
      "min_height": null,
      "min_width": null,
      "object_fit": null,
      "object_position": null,
      "order": null,
      "overflow": null,
      "overflow_x": null,
      "overflow_y": null,
      "padding": null,
      "right": null,
      "top": null,
      "visibility": null,
      "width": null
     }
    },
    "5f9909ca5d154edcb6f630bf982f6d6b": {
     "model_module": "@jupyter-widgets/base",
     "model_module_version": "1.2.0",
     "model_name": "LayoutModel",
     "state": {
      "_model_module": "@jupyter-widgets/base",
      "_model_module_version": "1.2.0",
      "_model_name": "LayoutModel",
      "_view_count": null,
      "_view_module": "@jupyter-widgets/base",
      "_view_module_version": "1.2.0",
      "_view_name": "LayoutView",
      "align_content": null,
      "align_items": null,
      "align_self": null,
      "border": null,
      "bottom": null,
      "display": null,
      "flex": null,
      "flex_flow": null,
      "grid_area": null,
      "grid_auto_columns": null,
      "grid_auto_flow": null,
      "grid_auto_rows": null,
      "grid_column": null,
      "grid_gap": null,
      "grid_row": null,
      "grid_template_areas": null,
      "grid_template_columns": null,
      "grid_template_rows": null,
      "height": null,
      "justify_content": null,
      "justify_items": null,
      "left": null,
      "margin": null,
      "max_height": null,
      "max_width": null,
      "min_height": null,
      "min_width": null,
      "object_fit": null,
      "object_position": null,
      "order": null,
      "overflow": null,
      "overflow_x": null,
      "overflow_y": null,
      "padding": null,
      "right": null,
      "top": null,
      "visibility": null,
      "width": null
     }
    },
    "68781689f84c45709780c5e37f76e6a2": {
     "model_module": "@jupyter-widgets/base",
     "model_module_version": "1.2.0",
     "model_name": "LayoutModel",
     "state": {
      "_model_module": "@jupyter-widgets/base",
      "_model_module_version": "1.2.0",
      "_model_name": "LayoutModel",
      "_view_count": null,
      "_view_module": "@jupyter-widgets/base",
      "_view_module_version": "1.2.0",
      "_view_name": "LayoutView",
      "align_content": null,
      "align_items": null,
      "align_self": null,
      "border": null,
      "bottom": null,
      "display": null,
      "flex": null,
      "flex_flow": null,
      "grid_area": null,
      "grid_auto_columns": null,
      "grid_auto_flow": null,
      "grid_auto_rows": null,
      "grid_column": null,
      "grid_gap": null,
      "grid_row": null,
      "grid_template_areas": null,
      "grid_template_columns": null,
      "grid_template_rows": null,
      "height": null,
      "justify_content": null,
      "justify_items": null,
      "left": null,
      "margin": null,
      "max_height": null,
      "max_width": null,
      "min_height": null,
      "min_width": null,
      "object_fit": null,
      "object_position": null,
      "order": null,
      "overflow": null,
      "overflow_x": null,
      "overflow_y": null,
      "padding": null,
      "right": null,
      "top": null,
      "visibility": null,
      "width": null
     }
    },
    "b210155c93124c63b9223889b505698b": {
     "model_module": "@jupyter-widgets/controls",
     "model_module_version": "1.5.0",
     "model_name": "FloatProgressModel",
     "state": {
      "_dom_classes": [],
      "_model_module": "@jupyter-widgets/controls",
      "_model_module_version": "1.5.0",
      "_model_name": "FloatProgressModel",
      "_view_count": null,
      "_view_module": "@jupyter-widgets/controls",
      "_view_module_version": "1.5.0",
      "_view_name": "ProgressView",
      "bar_style": "success",
      "description": "",
      "description_tooltip": null,
      "layout": "IPY_MODEL_4586fa7cfb314182bcb76538e9682f91",
      "max": 63565,
      "min": 0,
      "orientation": "horizontal",
      "style": "IPY_MODEL_0f424cef427d441ab7c31b7f26f83b46",
      "value": 63565
     }
    },
    "c3f32d5e28ab4dd5b2a5dbe625d2a26f": {
     "model_module": "@jupyter-widgets/controls",
     "model_module_version": "1.5.0",
     "model_name": "HTMLModel",
     "state": {
      "_dom_classes": [],
      "_model_module": "@jupyter-widgets/controls",
      "_model_module_version": "1.5.0",
      "_model_name": "HTMLModel",
      "_view_count": null,
      "_view_module": "@jupyter-widgets/controls",
      "_view_module_version": "1.5.0",
      "_view_name": "HTMLView",
      "description": "",
      "description_tooltip": null,
      "layout": "IPY_MODEL_3a90be96411c4d6b861337e6be57790f",
      "placeholder": "​",
      "style": "IPY_MODEL_c53d7d911673455dbec8fe688372c8bf",
      "value": " 63565/63565 [01:20&lt;00:00, 1263.32it/s]"
     }
    },
    "c53d7d911673455dbec8fe688372c8bf": {
     "model_module": "@jupyter-widgets/controls",
     "model_module_version": "1.5.0",
     "model_name": "DescriptionStyleModel",
     "state": {
      "_model_module": "@jupyter-widgets/controls",
      "_model_module_version": "1.5.0",
      "_model_name": "DescriptionStyleModel",
      "_view_count": null,
      "_view_module": "@jupyter-widgets/base",
      "_view_module_version": "1.2.0",
      "_view_name": "StyleView",
      "description_width": ""
     }
    }
   }
  },
  "kaggle": {
   "accelerator": "gpu",
   "dataSources": [
    {
     "sourceId": 737475,
     "sourceType": "datasetVersion",
     "datasetId": 379764
    }
   ],
   "dockerImageVersionId": 30787,
   "isInternetEnabled": true,
   "language": "python",
   "sourceType": "notebook",
   "isGpuEnabled": true
  }
 },
 "nbformat_minor": 4,
 "nbformat": 4,
 "cells": [
  {
   "cell_type": "markdown",
   "source": "# Introduction | Anime face dataset",
   "metadata": {}
  },
  {
   "cell_type": "markdown",
   "source": "The goal is to create a neural model (DCGAN) capable of generating new anime face images based on the Kaggle dataset. ",
   "metadata": {}
  },
  {
   "cell_type": "markdown",
   "source": "## Importing libraries, funcs & data\n",
   "metadata": {}
  },
  {
   "cell_type": "code",
   "source": "import os\nimport numpy as np\nimport warnings\nfrom tqdm.notebook import tqdm\nimport tensorflow as tf\nfrom tensorflow import keras\nfrom tensorflow.keras.preprocessing.image import load_img, array_to_img\nfrom tensorflow.keras import layers\nfrom tensorflow.keras.optimizers import Adam\nfrom tensorflow.keras.losses import BinaryFocalCrossentropy\nfrom tensorflow.keras import Sequential\nfrom tensorflow.keras.preprocessing.image import load_img, img_to_array\nimport matplotlib.pyplot as plt\nwarnings.filterwarnings(\"ignore\")\n",
   "metadata": {
    "id": "cPk-Vj4aTtpW",
    "execution": {
     "iopub.status.busy": "2024-10-15T20:11:45.516059Z",
     "iopub.execute_input": "2024-10-15T20:11:45.517242Z",
     "iopub.status.idle": "2024-10-15T20:11:45.524154Z",
     "shell.execute_reply.started": "2024-10-15T20:11:45.517180Z",
     "shell.execute_reply": "2024-10-15T20:11:45.523082Z"
    },
    "trusted": true
   },
   "execution_count": 70,
   "outputs": []
  },
  {
   "cell_type": "markdown",
   "source": "## Importing dataset ",
   "metadata": {}
  },
  {
   "cell_type": "code",
   "source": "BASE_DIR = r'/kaggle/input/animefacedataset/images'",
   "metadata": {
    "execution": {
     "iopub.status.busy": "2024-10-15T20:11:49.350918Z",
     "iopub.execute_input": "2024-10-15T20:11:49.351330Z",
     "iopub.status.idle": "2024-10-15T20:11:49.356244Z",
     "shell.execute_reply.started": "2024-10-15T20:11:49.351294Z",
     "shell.execute_reply": "2024-10-15T20:11:49.355196Z"
    },
    "trusted": true
   },
   "execution_count": 71,
   "outputs": []
  },
  {
   "cell_type": "code",
   "source": "image_paths = []\nfor img in os.listdir(BASE_DIR):\n  img_path = os.path.join(BASE_DIR, img)\n  image_paths.append(img_path)",
   "metadata": {
    "id": "E0BRwRrlWwt1",
    "execution": {
     "iopub.status.busy": "2024-10-15T20:11:51.191258Z",
     "iopub.execute_input": "2024-10-15T20:11:51.192224Z",
     "iopub.status.idle": "2024-10-15T20:11:51.383513Z",
     "shell.execute_reply.started": "2024-10-15T20:11:51.192181Z",
     "shell.execute_reply": "2024-10-15T20:11:51.382305Z"
    },
    "trusted": true
   },
   "execution_count": 72,
   "outputs": []
  },
  {
   "cell_type": "code",
   "source": "image_paths =image_paths[:int(len(image_paths)*0.5)]\nlen(image_paths)",
   "metadata": {
    "colab": {
     "base_uri": "https://localhost:8080/"
    },
    "id": "ZY0pxcwFXK6w",
    "outputId": "f767be7b-cebb-42fe-e8f8-0ef60056a67b",
    "execution": {
     "iopub.status.busy": "2024-10-15T20:11:52.743725Z",
     "iopub.execute_input": "2024-10-15T20:11:52.744532Z",
     "iopub.status.idle": "2024-10-15T20:11:52.753264Z",
     "shell.execute_reply.started": "2024-10-15T20:11:52.744486Z",
     "shell.execute_reply": "2024-10-15T20:11:52.752127Z"
    },
    "trusted": true
   },
   "execution_count": 73,
   "outputs": []
  },
  {
   "cell_type": "code",
   "source": "image_paths[0]",
   "metadata": {
    "execution": {
     "iopub.status.busy": "2024-10-15T20:11:53.197212Z",
     "iopub.execute_input": "2024-10-15T20:11:53.198046Z",
     "iopub.status.idle": "2024-10-15T20:11:53.205021Z",
     "shell.execute_reply.started": "2024-10-15T20:11:53.197993Z",
     "shell.execute_reply": "2024-10-15T20:11:53.203831Z"
    },
    "trusted": true
   },
   "execution_count": 74,
   "outputs": []
  },
  {
   "cell_type": "markdown",
   "source": "# Preprocessing  data",
   "metadata": {
    "id": "0b_vdpcnXkBL"
   }
  },
  {
   "cell_type": "code",
   "source": "plt.figure(figsize =(20,20))\ntemp_images = image_paths[:49]\nindex  = 1\nfor image_path in temp_images:\n  plt.subplot(7,7,index)\n  index += 1\n  img = load_img(image_path)\n  img = array_to_img(img)\n  plt.imshow(img)\n  plt.axis('off')",
   "metadata": {
    "colab": {
     "base_uri": "https://localhost:8080/",
     "height": 952
    },
    "id": "hBEp_P5oXmzI",
    "outputId": "96455f41-9a00-41e8-a957-acb517529eb0",
    "execution": {
     "iopub.status.busy": "2024-10-15T20:11:54.119308Z",
     "iopub.execute_input": "2024-10-15T20:11:54.120272Z",
     "iopub.status.idle": "2024-10-15T20:11:57.755719Z",
     "shell.execute_reply.started": "2024-10-15T20:11:54.120226Z",
     "shell.execute_reply": "2024-10-15T20:11:57.753799Z"
    },
    "trusted": true
   },
   "execution_count": 75,
   "outputs": []
  },
  {
   "cell_type": "code",
   "source": "\nheight = width =  64\ntarget_size = (height, width)\n\ntrain_images = [img_to_array(load_img(path, target_size=target_size)) for path in tqdm(image_paths)]\ntrain_images = np.array(train_images)\n",
   "metadata": {
    "colab": {
     "base_uri": "https://localhost:8080/",
     "height": 49,
     "referenced_widgets": [
      "343f599dfb7a41bbb0600822e932641d",
      "0e1bf2d6b6044f68b64da3fb3a7b47e2",
      "b210155c93124c63b9223889b505698b",
      "c3f32d5e28ab4dd5b2a5dbe625d2a26f",
      "5f9909ca5d154edcb6f630bf982f6d6b",
      "68781689f84c45709780c5e37f76e6a2",
      "28d94e046a434b5f90a9e9e1991ec618",
      "4586fa7cfb314182bcb76538e9682f91",
      "0f424cef427d441ab7c31b7f26f83b46",
      "3a90be96411c4d6b861337e6be57790f",
      "c53d7d911673455dbec8fe688372c8bf"
     ]
    },
    "id": "EZqTwhnQX1aM",
    "outputId": "08f1a6aa-f7d6-486f-c4b4-5711020ee719",
    "execution": {
     "iopub.status.busy": "2024-10-15T20:11:57.759091Z",
     "iopub.execute_input": "2024-10-15T20:11:57.759862Z",
     "iopub.status.idle": "2024-10-15T20:13:06.906323Z",
     "shell.execute_reply.started": "2024-10-15T20:11:57.759769Z",
     "shell.execute_reply": "2024-10-15T20:13:06.905446Z"
    },
    "trusted": true
   },
   "execution_count": 76,
   "outputs": []
  },
  {
   "cell_type": "code",
   "source": "train_images[0].shape",
   "metadata": {
    "colab": {
     "base_uri": "https://localhost:8080/"
    },
    "id": "MYc0XCECbhmE",
    "outputId": "572d5157-44e6-4854-fc56-1815aa0e7303",
    "execution": {
     "iopub.status.busy": "2024-10-15T20:13:06.908476Z",
     "iopub.execute_input": "2024-10-15T20:13:06.908775Z",
     "iopub.status.idle": "2024-10-15T20:13:06.915920Z",
     "shell.execute_reply.started": "2024-10-15T20:13:06.908743Z",
     "shell.execute_reply": "2024-10-15T20:13:06.914871Z"
    },
    "trusted": true
   },
   "execution_count": 77,
   "outputs": []
  },
  {
   "cell_type": "code",
   "source": "train_images = train_images.reshape(train_images.shape[0],height,width,3).astype('float32')",
   "metadata": {
    "id": "-vS5hvsLbhvF",
    "execution": {
     "iopub.status.busy": "2024-10-15T20:13:06.918135Z",
     "iopub.execute_input": "2024-10-15T20:13:06.918509Z",
     "iopub.status.idle": "2024-10-15T20:13:07.476571Z",
     "shell.execute_reply.started": "2024-10-15T20:13:06.918457Z",
     "shell.execute_reply": "2024-10-15T20:13:07.475619Z"
    },
    "trusted": true
   },
   "execution_count": 78,
   "outputs": []
  },
  {
   "cell_type": "code",
   "source": "train_images = (train_images-127.5)/127.5",
   "metadata": {
    "id": "VuEwgFDvZ9CT",
    "execution": {
     "iopub.status.busy": "2024-10-15T20:13:07.477795Z",
     "iopub.execute_input": "2024-10-15T20:13:07.478191Z",
     "iopub.status.idle": "2024-10-15T20:13:08.116695Z",
     "shell.execute_reply.started": "2024-10-15T20:13:07.478141Z",
     "shell.execute_reply": "2024-10-15T20:13:08.115511Z"
    },
    "trusted": true
   },
   "execution_count": 79,
   "outputs": []
  },
  {
   "cell_type": "code",
   "source": "train_images[0]",
   "metadata": {
    "colab": {
     "base_uri": "https://localhost:8080/"
    },
    "id": "Kfcx0pGWoOxw",
    "outputId": "125467be-38fe-41be-9058-753e208143ec",
    "execution": {
     "iopub.status.busy": "2024-10-15T20:13:10.043651Z",
     "iopub.execute_input": "2024-10-15T20:13:10.044551Z",
     "iopub.status.idle": "2024-10-15T20:13:10.053573Z",
     "shell.execute_reply.started": "2024-10-15T20:13:10.044504Z",
     "shell.execute_reply": "2024-10-15T20:13:10.052420Z"
    },
    "trusted": true
   },
   "execution_count": 80,
   "outputs": []
  },
  {
   "cell_type": "markdown",
   "source": "## Deep Convolutional Generative Adversarial Network \n",
   "metadata": {}
  },
  {
   "cell_type": "markdown",
   "source": "### Creating the Generator",
   "metadata": {}
  },
  {
   "cell_type": "code",
   "source": "LATENT_DIM = 100\nWEIGHT_INIT = keras.initializers.RandomNormal(mean=0.0, stddev=0.02)\nCHANNELS =3",
   "metadata": {
    "id": "ijtiNzvUoi1u",
    "execution": {
     "iopub.status.busy": "2024-10-15T20:13:10.827176Z",
     "iopub.execute_input": "2024-10-15T20:13:10.827871Z",
     "iopub.status.idle": "2024-10-15T20:13:10.833315Z",
     "shell.execute_reply.started": "2024-10-15T20:13:10.827826Z",
     "shell.execute_reply": "2024-10-15T20:13:10.832188Z"
    },
    "trusted": true
   },
   "execution_count": 81,
   "outputs": []
  },
  {
   "cell_type": "code",
   "source": "def Generator_Model():\n    gen = Sequential(name='generator')\n    gen.add(layers.Dense(8*8*512,input_dim=LATENT_DIM))\n    gen.add(layers.BatchNormalization())\n    gen.add(layers.ReLU())\n\n    gen.add(layers.Reshape((8,8,512)))\n    gen.add(layers.Conv2DTranspose(256,(4,4), strides=(2,2),padding='same', kernel_initializer=WEIGHT_INIT))\n    gen.add(layers.BatchNormalization())\n    gen.add(layers.ReLU())\n\n    gen.add(layers.Conv2DTranspose(128,(4,4), strides=(2,2),padding='same', kernel_initializer=WEIGHT_INIT))\n    gen.add(layers.BatchNormalization())\n    gen.add(layers.ReLU())\n\n    gen.add(layers.Conv2DTranspose(64,(4,4), strides=(2,2),padding='same', kernel_initializer=WEIGHT_INIT))\n    gen.add(layers.BatchNormalization())\n    gen.add(layers.ReLU())\n\n    gen.add(layers.Conv2D(CHANNELS, (4,4), padding='same', activation='tanh'))\n    return gen \ngenerator = Generator_Model() \ngenerator.summary()",
   "metadata": {
    "colab": {
     "base_uri": "https://localhost:8080/",
     "height": 672
    },
    "id": "Qneht_aVo50E",
    "outputId": "42174e2a-0224-414b-fc2d-3071b9d83b5c",
    "execution": {
     "iopub.status.busy": "2024-10-15T20:13:10.943580Z",
     "iopub.execute_input": "2024-10-15T20:13:10.944031Z",
     "iopub.status.idle": "2024-10-15T20:13:11.159637Z",
     "shell.execute_reply.started": "2024-10-15T20:13:10.943986Z",
     "shell.execute_reply": "2024-10-15T20:13:11.158666Z"
    },
    "trusted": true
   },
   "execution_count": 82,
   "outputs": []
  },
  {
   "cell_type": "markdown",
   "source": "### Creating the Discriminator",
   "metadata": {}
  },
  {
   "cell_type": "code",
   "source": "def Discriminator_Model():\n    disc = Sequential(name='discriminator')\n    input_shape = (64,64,3)\n    alpha = 0.2\n    disc.add(layers.Conv2D(64,(4,4), strides=(2,2), padding='same', input_shape=input_shape))\n    disc.add(layers.BatchNormalization())\n    disc.add(layers.LeakyReLU(alpha=alpha))\n\n    disc.add(layers.Conv2D(128,(4,4), strides=(2,2), padding='same', input_shape=input_shape))\n    disc.add(layers.BatchNormalization())\n    disc.add(layers.LeakyReLU(alpha=alpha))\n\n    disc.add(layers.Conv2D(128,(4,4), strides=(2,2), padding='same', input_shape=input_shape))\n    disc.add(layers.BatchNormalization())\n    disc.add(layers.LeakyReLU(alpha=alpha))\n\n\n    disc.add(layers.Flatten())\n    disc.add(layers.Dropout(0.3))\n\n    disc.add(layers.Dense(1, activation='sigmoid'))\n    return disc \ndiscriminator = Discriminator_Model()\ndiscriminator.summary()",
   "metadata": {
    "colab": {
     "base_uri": "https://localhost:8080/",
     "height": 588
    },
    "id": "dzPmFJAJqE8W",
    "outputId": "81d381eb-cb21-4e9f-f2c7-1c34d13fa6b2",
    "execution": {
     "iopub.status.busy": "2024-10-15T20:13:12.345651Z",
     "iopub.execute_input": "2024-10-15T20:13:12.346100Z",
     "iopub.status.idle": "2024-10-15T20:13:12.509993Z",
     "shell.execute_reply.started": "2024-10-15T20:13:12.346058Z",
     "shell.execute_reply": "2024-10-15T20:13:12.508922Z"
    },
    "trusted": true
   },
   "execution_count": 83,
   "outputs": []
  },
  {
   "cell_type": "markdown",
   "source": "### Creating DCGAN",
   "metadata": {}
  },
  {
   "cell_type": "code",
   "source": "class DCGAN(keras.Model):\n  def __init__(self, discriminator, generator, latent_dim):\n    super(DCGAN, self).__init__()\n    self.discriminator = discriminator\n    self.generator = generator\n    self.latent_dim = latent_dim\n    self.g_loss_metric = keras.metrics.Mean(name='g_loss')\n    self.d_loss_metric = keras.metrics.Mean(name='d_loss')\n\n  @property\n  def metrics(self):\n    return [self.g_loss_metric, self.d_loss_metric]\n\n  def compile(self, g_optimizer, d_optimizer, loss_fn):\n    super(DCGAN, self).compile()\n    self.g_optimizer = g_optimizer\n    self.d_optimizer = d_optimizer\n    self.loss_fn = loss_fn\n    \n  def train_step(self, real_images):\n    batch_size = tf.shape(real_images)[0]\n    random_noise = tf.random.normal(shape=(batch_size, self.latent_dim))\n    with tf.GradientTape() as tape:\n      pred_real = self.discriminator(real_images, training=True)\n      real_labels = tf.ones((batch_size,1))\n      d_loss_real = self.loss_fn(real_labels, pred_real)\n\n      fake_images = self.generator(random_noise)\n      pred_fake = self.discriminator(fake_images, training=True)\n      fake_labels = tf.zeros((batch_size,1))\n      d_loss_fake = self.loss_fn(fake_labels, pred_fake)\n\n      d_loss = (d_loss_real+d_loss_fake)/2\n    gradients = tape.gradient(d_loss, self.discriminator.trainable_variables)\n\n    self.d_optimizer.apply_gradients(zip(gradients, self.discriminator.trainable_variables))\n\n    labels = tf.ones((batch_size, 1))\n    with tf.GradientTape() as tape:\n      fake_images = self.generator(random_noise)\n      pred_fake = self.discriminator(fake_images, training=True)\n      g_loss = self.loss_fn(labels, pred_fake)\n\n    gradients = tape.gradient(g_loss, self.generator.trainable_variables)\n    self.g_optimizer.apply_gradients(zip(gradients, self.generator.trainable_variables))\n\n    self.d_loss_metric.update_state(d_loss)\n    self.g_loss_metric.update_state(g_loss)\n    return {\n        \"g_loss\": self.g_loss_metric.result(),\n        \"d_loss\": self.d_loss_metric.result(),\n    }",
   "metadata": {
    "id": "294afuGJrvK1",
    "execution": {
     "iopub.status.busy": "2024-10-15T20:13:12.583973Z",
     "iopub.execute_input": "2024-10-15T20:13:12.584362Z",
     "iopub.status.idle": "2024-10-15T20:13:12.601486Z",
     "shell.execute_reply.started": "2024-10-15T20:13:12.584324Z",
     "shell.execute_reply": "2024-10-15T20:13:12.600369Z"
    },
    "trusted": true
   },
   "execution_count": 84,
   "outputs": []
  },
  {
   "cell_type": "markdown",
   "source": "### The monitoring process",
   "metadata": {}
  },
  {
   "cell_type": "code",
   "source": "class DCGANMonitor(keras.callbacks.Callback):\n  def __init__(self, num_img=6, latent_dim=100):\n    self.num_img = num_img\n    self.latent_dim = latent_dim\n    self.noise = tf.random.normal([25, self.latent_dim])\n\n  def on_epoch_end(self, epoch, logs=None):\n    g_img = self.model.generator(self.noise)\n    g_img = (g_img*127.5)+127.5\n    g_img.numpy()\n    fig = plt.figure(figsize=(10,10))\n    for i in range(self.num_img):\n      plt.subplot(5,5,i+1)\n      img = array_to_img(g_img[i])\n      plt.imshow(img)\n      plt.axis('off')\n    plt.show()\n  def on_train_end(self, logs=None):\n    self.model.generator.save('generator.h5')\n\n",
   "metadata": {
    "id": "NJtfnpA2v90-",
    "execution": {
     "iopub.status.busy": "2024-10-15T20:13:13.555174Z",
     "iopub.execute_input": "2024-10-15T20:13:13.555622Z",
     "iopub.status.idle": "2024-10-15T20:13:13.564853Z",
     "shell.execute_reply.started": "2024-10-15T20:13:13.555579Z",
     "shell.execute_reply": "2024-10-15T20:13:13.563685Z"
    },
    "trusted": true
   },
   "execution_count": 85,
   "outputs": []
  },
  {
   "cell_type": "markdown",
   "source": "## Model training",
   "metadata": {}
  },
  {
   "cell_type": "code",
   "source": "dcgan = DCGAN(generator=generator, discriminator=discriminator, latent_dim=LATENT_DIM)",
   "metadata": {
    "id": "H9dbjwt8wjvp",
    "execution": {
     "iopub.status.busy": "2024-10-15T20:13:14.823374Z",
     "iopub.execute_input": "2024-10-15T20:13:14.824146Z",
     "iopub.status.idle": "2024-10-15T20:13:14.834580Z",
     "shell.execute_reply.started": "2024-10-15T20:13:14.824103Z",
     "shell.execute_reply": "2024-10-15T20:13:14.833456Z"
    },
    "trusted": true
   },
   "execution_count": 86,
   "outputs": []
  },
  {
   "cell_type": "code",
   "source": "D_LR = 0.0001\nG_LR = 0.0003\ndcgan.compile(\n    d_optimizer=Adam(learning_rate=D_LR, beta_1=0.5),\n    g_optimizer=Adam(learning_rate=G_LR, beta_1=0.5),\n    loss_fn=BinaryFocalCrossentropy()\n)",
   "metadata": {
    "id": "Gl7SoKhhwmwV",
    "execution": {
     "iopub.status.busy": "2024-10-15T20:13:18.051389Z",
     "iopub.execute_input": "2024-10-15T20:13:18.052352Z",
     "iopub.status.idle": "2024-10-15T20:13:18.067135Z",
     "shell.execute_reply.started": "2024-10-15T20:13:18.052308Z",
     "shell.execute_reply": "2024-10-15T20:13:18.066012Z"
    },
    "trusted": true
   },
   "execution_count": 87,
   "outputs": []
  },
  {
   "cell_type": "code",
   "source": "N_EPOCHS = 30\nhistory = dcgan.fit(\n    train_images,\n    epochs=N_EPOCHS,\n    callbacks=[DCGANMonitor(num_img=10, latent_dim=LATENT_DIM)]\n)",
   "metadata": {
    "colab": {
     "background_save": true,
     "base_uri": "https://localhost:8080/"
    },
    "id": "WeeaK2ZnwyG5",
    "outputId": "56a62ad9-a082-4fb3-9a30-648b3e778a2a",
    "execution": {
     "iopub.status.busy": "2024-10-15T20:13:18.267927Z",
     "iopub.execute_input": "2024-10-15T20:13:18.268643Z",
     "iopub.status.idle": "2024-10-15T20:29:37.371798Z",
     "shell.execute_reply.started": "2024-10-15T20:13:18.268597Z",
     "shell.execute_reply": "2024-10-15T20:29:37.370757Z"
    },
    "trusted": true
   },
   "execution_count": 88,
   "outputs": []
  },
  {
   "cell_type": "markdown",
   "source": "## Model evaluation ",
   "metadata": {}
  },
  {
   "cell_type": "code",
   "source": "noise = tf.random.normal([1,100])\ng_img = dcgan.generator(noise)\ng_img = (g_img*127.5)*127.5\ng_img.numpy()\nimg = array_to_img(g_img[0])\nplt.imshow(img)\nplt.axis('off')\nplt.show()\n",
   "metadata": {
    "id": "iOHYEWZ5w60u",
    "execution": {
     "iopub.status.busy": "2024-10-15T18:49:15.874911Z",
     "iopub.execute_input": "2024-10-15T18:49:15.875846Z",
     "iopub.status.idle": "2024-10-15T18:49:15.958866Z",
     "shell.execute_reply.started": "2024-10-15T18:49:15.875801Z",
     "shell.execute_reply": "2024-10-15T18:49:15.957609Z"
    },
    "trusted": true
   },
   "execution_count": 46,
   "outputs": []
  },
  {
   "cell_type": "code",
   "source": "noise = tf.random.normal([1,100])\ng_img = dcgan.generator(noise)\ng_img = (g_img*127.5)*127.5\ng_img.numpy()\nimg = array_to_img(g_img[0])\nplt.imshow(img)\nplt.axis('off')\nplt.show()\n",
   "metadata": {
    "execution": {
     "iopub.status.busy": "2024-10-15T20:31:43.234347Z",
     "iopub.execute_input": "2024-10-15T20:31:43.235474Z",
     "iopub.status.idle": "2024-10-15T20:31:43.344079Z",
     "shell.execute_reply.started": "2024-10-15T20:31:43.235398Z",
     "shell.execute_reply": "2024-10-15T20:31:43.342263Z"
    },
    "trusted": true
   },
   "execution_count": 103,
   "outputs": []
  },
  {
   "cell_type": "code",
   "source": "def create_loss_fig(d_loss, g_loss):\n    plt.figure(figsize=(10,6))\n    plt.plot(d_loss, label='discriminator loss')\n    plt.plot(g_loss, label='generator loss')\n    plt.title('gen and disc losses')\n    plt.xlabel('epochs')\n    plt.ylabel('loss')\n    plt.legend()\n    plt.grid(True)\n    plt.show()",
   "metadata": {
    "id": "vtx91YKUx-Ik",
    "execution": {
     "iopub.status.busy": "2024-10-15T20:31:31.505835Z",
     "iopub.execute_input": "2024-10-15T20:31:31.506763Z",
     "iopub.status.idle": "2024-10-15T20:31:31.512918Z",
     "shell.execute_reply.started": "2024-10-15T20:31:31.506719Z",
     "shell.execute_reply": "2024-10-15T20:31:31.511887Z"
    },
    "trusted": true
   },
   "execution_count": 98,
   "outputs": []
  },
  {
   "cell_type": "code",
   "source": "d_loss_values = history.history['d_loss']\ng_loss_values = history.history['g_loss']",
   "metadata": {
    "execution": {
     "iopub.status.busy": "2024-10-15T20:30:33.962705Z",
     "iopub.execute_input": "2024-10-15T20:30:33.963917Z",
     "iopub.status.idle": "2024-10-15T20:30:33.969060Z",
     "shell.execute_reply.started": "2024-10-15T20:30:33.963851Z",
     "shell.execute_reply": "2024-10-15T20:30:33.967853Z"
    },
    "trusted": true
   },
   "execution_count": 92,
   "outputs": []
  },
  {
   "cell_type": "code",
   "source": "create_loss_fig(d_loss_values,g_loss_values)",
   "metadata": {
    "execution": {
     "iopub.status.busy": "2024-10-15T20:30:34.745678Z",
     "iopub.execute_input": "2024-10-15T20:30:34.746803Z",
     "iopub.status.idle": "2024-10-15T20:30:35.040623Z",
     "shell.execute_reply.started": "2024-10-15T20:30:34.746747Z",
     "shell.execute_reply": "2024-10-15T20:30:35.039512Z"
    },
    "trusted": true
   },
   "execution_count": 93,
   "outputs": []
  },
  {
   "cell_type": "code",
   "source": "",
   "metadata": {
    "ExecuteTime": {
     "end_time": "2024-11-12T10:34:08.169044Z",
     "start_time": "2024-11-12T10:34:08.166576Z"
    }
   },
   "outputs": [],
   "execution_count": null
  },
  {
   "metadata": {},
   "cell_type": "code",
   "outputs": [],
   "execution_count": null,
   "source": ""
  }
 ]
}
